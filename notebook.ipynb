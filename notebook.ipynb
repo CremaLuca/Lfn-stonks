{
 "cells": [
  {
   "cell_type": "markdown",
   "metadata": {},
   "source": [
    "# Learning from networks - Stonks"
   ]
  },
  {
   "cell_type": "markdown",
   "metadata": {},
   "source": [
    "Start by importing the libraries we will use throughout the notebook."
   ]
  },
  {
   "cell_type": "code",
   "execution_count": 5,
   "metadata": {},
   "outputs": [],
   "source": [
    "import networkx as nx\n",
    "import graph_library as gl\n",
    "import matplotlib.pyplot as plt\n",
    "from node2vec import Node2Vec\n",
    "import igraph\n",
    "\n",
    "%matplotlib inline"
   ]
  },
  {
   "cell_type": "markdown",
   "metadata": {},
   "source": [
    "## Load graph and compute market capitalization\n",
    "\n",
    "First of all let's start by loading the graph file and showing some basic information about it.\n",
    "Note: we compute the longest path which in this specific case indicates how long is the path of ETFs buying other ETFs."
   ]
  },
  {
   "cell_type": "code",
   "execution_count": 6,
   "metadata": {},
   "outputs": [
    {
     "name": "stdout",
     "output_type": "stream",
     "text": [
      "The graph contains 25396 nodes and 396114 edges.\n",
      "There are 6 connected components.\n",
      "Sizes: [25189, 125, 38, 18, 13, 13]\n",
      "Longest path in G: ['DBEU', 'IEUR', 'MCRO', 'VGK', 'SMCP', 'SCZ', 'GEM', 'HNDL', 'MLPA', 'PSXP']\n",
      "One of the ETFs that buys more components is DFAX.\n",
      "One of the most bought components is MSFT.\n"
     ]
    }
   ],
   "source": [
    "# Load Graph\n",
    "G = nx.read_gml(\"out_graph.gml\")\n",
    "G_undirected = G.to_undirected() # Needed to compute the number of connected components\n",
    "\n",
    "# Compute basic information about the graph\n",
    "print(f\"The graph contains {len(G.nodes())} nodes and {len(G.edges())} edges.\")\n",
    "print(f\"There are {nx.number_connected_components(G_undirected)} connected components.\")\n",
    "print(f\"Sizes: {[len(c) for c in sorted(nx.connected_components(G_undirected), key=len, reverse=True)]}\")\n",
    "print(f\"Longest path in G: {gl.longest_path(G)}\")\n",
    "print(f\"One of the ETFs that buys more components is {gl.max_out_degree_vertex(G)}.\")\n",
    "print(f\"One of the most bought components is {gl.max_in_degree_vertex(G)}.\")"
   ]
  },
  {
   "cell_type": "markdown",
   "metadata": {},
   "source": [
    "Now let's comoute the capitalization and print the top 20 nodes.\n",
    "\n",
    "Capitalization of a stock is defined as the amount of money that the stock has been bought for by investors (including funds). In our case the capitalization of a component node is solely defined by funds purchases."
   ]
  },
  {
   "cell_type": "code",
   "execution_count": 7,
   "metadata": {},
   "outputs": [
    {
     "name": "stdout",
     "output_type": "stream",
     "text": [
      "Top 20 nodes with highest capitalization: ['CPIN', 'AAPL', 'MSFT', 'AMZN', 'ADRO', 'GOOGL', 'FB', 'GOOG', 'TSLA', 'NVDA', 'JPM', 'UNVR', 'JNJ', 'V', 'UNH', 'HD', 'PG', 'BAC', 'MA', 'PYPL']\n"
     ]
    }
   ],
   "source": [
    "def compute_capitalization(G: nx.Graph):\n",
    "    \"\"\"\n",
    "    Adds the 'capitalization' attribute to every node, which is the sum of the incoming edges weights.\n",
    "    \"\"\"\n",
    "    for node in G.nodes():\n",
    "        capitalization = 0\n",
    "        for edge in G.in_edges(node):\n",
    "            capitalization += G.get_edge_data(*edge)[\"weight\"]\n",
    "        G.nodes[node][\"capitalization\"] = capitalization\n",
    "\n",
    "compute_capitalization(G)\n",
    "k = 20\n",
    "print(f\"Top {k} nodes with highest capitalization: {gl.max_k_nodes(G, k, 'capitalization')}\")"
   ]
  },
  {
   "cell_type": "markdown",
   "metadata": {},
   "source": [
    "## Node-level features\n",
    "\n",
    "### Betweenness centrality\n",
    "\n",
    "We try to compute betweenness centralities of the nodes. The graph is too big to compute the exact betweenness centrality of each node, so we only use a small percentage of the nodes using the `percentage` parameter."
   ]
  },
  {
   "cell_type": "code",
   "execution_count": 8,
   "metadata": {},
   "outputs": [
    {
     "name": "stdout",
     "output_type": "stream",
     "text": [
      "[('GEM', 0.001237741904409041), ('VEA', 0.0009759014299965604), ('VWO', 0.0007348777005091896), ('SMCP', 0.0006997688620534076), ('CPI', 0.0006328135108390622), ('SCZ', 0.0005060488551757076), ('HNDL', 0.00038798373470493627), ('VGK', 0.00035660326847454705), ('IEUR', 0.0003444860587420205), ('ITOT', 0.0002922111731651592), ('CRBN', 0.00016824279667084925), ('IWM', 0.0001573683776801203), ('RALS', 0.00015542651714606155), ('MCRO', 0.00014144512130083862), ('HDG', 0.00013950326076677988), ('FAB', 0.00010493814326053433), ('EEM', 0.00010012232913606865), ('IWO', 9.748139880974876e-05), ('IWN', 9.538418943296532e-05), ('IEMG', 8.357767738588817e-05)]\n"
     ]
    }
   ],
   "source": [
    "b_centralities = gl.betweenness_centrality_percent(G, percentage=0.02)\n",
    "print(sorted(b_centralities.items(), key=lambda t: t[1], reverse=True)[:k])"
   ]
  },
  {
   "cell_type": "markdown",
   "metadata": {},
   "source": [
    "### Closeness Centrality\n",
    "\n",
    "Since the graph has more than one connected component, in order to compute closeness centrality for all the nodes, we use an algotithm found on the internet which basically computes the shortest paths using the Floyd — Warshall Method and uses the shortest path matrix to compute the closeness metric for each node. \n",
    "\n",
    "`gl.closeness_centrality_matrix(G)` takes approximately two minutes to be executed"
   ]
  },
  {
   "cell_type": "code",
   "execution_count": 9,
   "metadata": {},
   "outputs": [
    {
     "name": "stdout",
     "output_type": "stream",
     "text": [
      "[('FLCH', 0.3925908437613524), ('FLJH', 0.12381470128322727), ('FLJP', 0.12100044778931104), ('FLQS', 0.10921951387606549), ('FLQL', 0.030386053711497295), ('FLQH', 0.021701217297901722), ('FLQM', 0.019524774708658828), ('FLLA', 0.013310213897087787), ('FLKR', 0.010609925288797593), ('FLAU', 0.005769172407180744), ('FLTW', 0.005458232143275128), ('FLBR', 0.005106896958476084), ('FLHK', 0.0037305443794605955), ('FLLV', 0.0035766344016292697), ('FLGR', 0.0033738071048927264), ('BUYZ', 0.002014289322675759), ('IQM', 0.002002185430902044), ('XDAT', 0.0014866655346868582), ('HELX', 0.0013572976578982699), ('FLSW', 0.0013049781760334797)]\n"
     ]
    }
   ],
   "source": [
    "k=20 # Redefine k in case previous code wasn't run\n",
    "c_centralities = gl.closeness_centrality_matrix(G)\n",
    "print(sorted(c_centralities.items(), key=lambda t: t[1], reverse=True)[:k])"
   ]
  },
  {
   "cell_type": "markdown",
   "metadata": {},
   "source": [
    "As an approximation we compute the closeness centrality of the nodes in a small random connected subgraph.\n",
    "We devised our own algorithm to draw a connected sample of `k` nodes from the graph `G`: `connected_random_subgraph(G, n)`. "
   ]
  },
  {
   "cell_type": "code",
   "execution_count": 11,
   "metadata": {},
   "outputs": [
    {
     "name": "stdout",
     "output_type": "stream",
     "text": [
      "There are 1 components with more than 8000 nodes.\n",
      "[('BES', 0.9325174970880684), ('HUV1', 0.014570585892001069), ('DOF5', 0.0024284309820001783), ('FRW', 0.0020815122702858672), ('1863', 0.0012142154910000892), ('198', 0.0006200249315745137), ('SUGI', 0.00040473849700002975), ('JUSD9', 0.0003237907976000238), ('1228', 6.946644048629832e-05), ('1885615D', 2.2279183321102555e-05), ('ALTERNAB', 1.5906753157206408e-05), ('1884932D', 1.4599785462926925e-05), ('4USD69654Z', 1.1527362256329961e-05), ('LGNXZ', 7.325583656109135e-06), ('1882388', 6.020903261157467e-06), ('PLN', 5.479723915758206e-06), ('USD1868USD', 5.068029875478633e-06), ('PX1', 4.934163864544893e-06), ('139USD5USD', 4.896030205645521e-06), ('CTP', 4.038410723947081e-06)]\n"
     ]
    }
   ],
   "source": [
    "sub_G = gl.connected_random_subgraph(G, 8000)\n",
    "c_centralities = nx.closeness_centrality(sub_G, distance=\"weight\")\n",
    "print(sorted(c_centralities.items(), key=lambda t: t[1], reverse=True)[:k])"
   ]
  },
  {
   "cell_type": "markdown",
   "metadata": {},
   "source": [
    "### Clustering coefficients\n",
    "\n",
    "The computation for the exact clustering coefficient is doable ..."
   ]
  },
  {
   "cell_type": "code",
   "execution_count": 12,
   "metadata": {},
   "outputs": [
    {
     "name": "stdout",
     "output_type": "stream",
     "text": [
      "Top 20 nodes by clustering coefficient:\n",
      "[('RWVG', 2.220278602733271e-05), ('UNA', 1.9880340687835788e-05), ('SSI', 1.5219529225139582e-05), ('HPG', 1.2501223578956097e-05), ('PDR', 1.2427193087025836e-05), ('CRHl', 1.2137344349100604e-05), ('VIC', 1.1967758246053812e-05), ('KRZ', 1.1909451311225256e-05), ('BCM', 1.1672895376409549e-05), ('RWGV', 1.1043518322844037e-05), ('VHM', 1.0180368464746611e-05), ('VCI', 8.455830606685144e-06), ('NVL', 8.304115970363736e-06), ('HSG', 8.276992510958094e-06), ('GEX', 7.798399073501852e-06), ('EXK', 7.639429907146357e-06), ('VCB', 7.093919710666592e-06), ('NOVO', 6.784985924541268e-06), ('JETl', 6.676593093953429e-06), ('DGC', 6.654628072496844e-06)]\n",
      "\n",
      "Global clustering coefficient: 9.24110477412097e-05\n"
     ]
    }
   ],
   "source": [
    "nodes_clustering_coeff = nx.clustering(G, weight=\"weight\")\n",
    "\n",
    "# Print top k nodes with highest clustering coefficient\n",
    "print(f\"Top {k} nodes by clustering coefficient:\")\n",
    "print(sorted(nodes_clustering_coeff.items(), key=lambda t: t[1], reverse=True)[:k])\n",
    "print(f\"\\nGlobal clustering coefficient: {nx.transitivity(G)}\")"
   ]
  },
  {
   "cell_type": "markdown",
   "metadata": {},
   "source": [
    "## Cycles\n",
    "\n",
    "It might be interesting to find whether there are cycles in the graph. There shouldn't be, but you never know."
   ]
  },
  {
   "cell_type": "code",
   "execution_count": 13,
   "metadata": {},
   "outputs": [
    {
     "name": "stdout",
     "output_type": "stream",
     "text": [
      "There is actually a cycle in the graph: [('BFIT', 'BFIT', 'forward')]\n"
     ]
    },
    {
     "data": {
      "image/png": "[encoded data removed]",
      "text/plain": [
       "<Figure size 432x288 with 1 Axes>"
      ]
     },
     "metadata": {},
     "output_type": "display_data"
    }
   ],
   "source": [
    "cycle = list(nx.find_cycle(G, orientation=\"original\"))\n",
    "if cycle:\n",
    "    print(f\"There is actually a cycle in the graph: {cycle}\")\n",
    "    nx.draw(G.subgraph(cycle[0]), with_labels=True, node_color=\"blue\", node_size=50, font_size=16)\n",
    "else:\n",
    "    print(\"There is no cycle in the graph.\")"
   ]
  },
  {
   "cell_type": "markdown",
   "metadata": {},
   "source": [
    "Although there shouldn't be cycles in the graph there may be some, this is due to the incorrect parsing or cleaning of the dataset."
   ]
  },
  {
   "cell_type": "markdown",
   "metadata": {},
   "source": [
    "## Embeddings\n",
    "\n",
    "Let's try some embeddings now\n",
    "\n",
    "### Node2Vec"
   ]
  },
  {
   "cell_type": "code",
   "execution_count": 14,
   "metadata": {},
   "outputs": [
    {
     "name": "stderr",
     "output_type": "stream",
     "text": [
      "Computing transition probabilities:  35%|███▌      | 8911/25396 [00:00<00:00, 19043.76it/s]/Library/Frameworks/Python.framework/Versions/3.9/lib/python3.9/site-packages/node2vec/node2vec.py:132: RuntimeWarning: invalid value encountered in true_divide\n",
      "  d_graph[source][self.FIRST_TRAVEL_KEY] = first_travel_weights / first_travel_weights.sum()\n",
      "Computing transition probabilities: 100%|██████████| 25396/25396 [00:02<00:00, 9258.25it/s] \n",
      "Generating walks (CPU: 1): 100%|██████████| 150/150 [00:09<00:00, 15.45it/s]\n",
      "Generating walks (CPU: 2): 100%|██████████| 150/150 [00:09<00:00, 15.13it/s]\n"
     ]
    },
    {
     "data": {
      "text/plain": [
       "<matplotlib.collections.PathCollection at 0x164c56070>"
      ]
     },
     "execution_count": 14,
     "metadata": {},
     "output_type": "execute_result"
    },
    {
     "data": {
      "image/png": "[encoded data removed]",
      "text/plain": [
       "<Figure size 792x648 with 1 Axes>"
      ]
     },
     "metadata": {
      "needs_background": "light"
     },
     "output_type": "display_data"
    }
   ],
   "source": [
    "node2vec = Node2Vec(G, dimensions=2, walk_length=5, num_walks=300, workers=2)\n",
    "model = node2vec.fit(window=10, min_count=1)\n",
    "figure = plt.figure(figsize=(11, 9))\n",
    "\n",
    "ax = figure.add_subplot(111)\n",
    "\n",
    "ax.scatter(model.wv.vectors[:, 0], model.wv.vectors[:, 1])"
   ]
  },
  {
   "cell_type": "markdown",
   "metadata": {},
   "source": [
    "## Graphlets and Motifs"
   ]
  },
  {
   "cell_type": "code",
   "execution_count": 17,
   "metadata": {},
   "outputs": [
    {
     "name": "stdout",
     "output_type": "stream",
     "text": [
      "There are 2 components with more than 40 nodes.\n",
      "there are [{0, 32, 27}, {0, 26, 27}, {0, 27, 22}, {0, 27, 13}, {0, 27, 7}, {0, 27, 12}, {0, 17, 27}, {0, 33, 27}, {0, 27, 4}, {0, 27, 36}, {0, 27, 28}, {0, 2, 27}, {0, 16, 27}, {0, 27, 5}, {0, 11, 27}, {0, 27, 29}, {0, 27, 20}, {0, 3, 27}, {0, 34, 27}, {0, 25, 27}, {0, 19, 27}, {0, 27, 15}, {0, 27, 14}, {0, 18, 27}, {0, 27, 31}, {0, 9, 27}, {0, 27, 38}, {0, 1, 27}, {0, 27, 21}, {0, 24, 27}, {0, 27, 6}, {0, 27, 30}, {0, 27, 39}, {0, 10, 27}, {0, 27, 37}, {0, 27, 23}, {0, 8, 27}, {0, 35, 27}, {0, 19, 36}, {0, 19, 20}, {0, 19, 29}, {0, 19, 15}, {0, 19, 37}, {0, 32, 19}, {0, 2, 19}, {0, 19, 5}, {0, 24, 19}, {0, 3, 19}, {0, 19, 13}, {0, 11, 19}, {0, 8, 19}, {0, 10, 19}, {0, 19, 6}, {0, 17, 19}, {0, 19, 28}, {0, 19, 12}, {0, 35, 19}, {0, 1, 19}, {0, 18, 19}, {0, 19, 22}, {0, 26, 19}, {0, 19, 23}, {0, 19, 4}, {0, 19, 31}, {0, 19, 14}, {0, 19, 21}, {0, 19, 7}, {0, 34, 19}, {0, 16, 19}, {0, 33, 19}, {0, 25, 19}, {0, 9, 19}, {0, 19, 38}, {0, 19, 39}, {0, 19, 30}, {0, 9, 12}, {0, 9, 35}, {0, 9, 13}, {0, 9, 38}, {0, 9, 34}, {0, 9, 31}, {0, 9, 21}, {0, 9, 2}, {0, 9, 36}, {0, 9, 17}, {0, 9, 39}, {0, 9, 37}, {0, 9, 1}, {0, 9, 8}, {0, 9, 6}, {0, 9, 29}, {0, 9, 25}, {0, 9, 24}, {0, 9, 7}, {0, 9, 33}, {0, 9, 18}, {0, 9, 22}, {0, 9, 26}, {0, 9, 23}, {0, 9, 4}, {0, 9, 14}, {0, 9, 5}, {0, 9, 16}, {0, 9, 32}, {0, 9, 15}, {0, 9, 30}, {0, 9, 20}, {0, 9, 28}, {0, 9, 10}, {0, 9, 3}, {0, 9, 11}, {0, 7, 15}, {0, 6, 15}, {0, 32, 15}, {0, 29, 15}, {0, 17, 15}, {0, 11, 15}, {0, 13, 15}, {0, 34, 15}, {0, 23, 15}, {0, 25, 15}, {0, 2, 15}, {0, 37, 15}, {0, 21, 15}, {0, 4, 15}, {0, 26, 15}, {0, 10, 15}, {0, 36, 15}, {0, 18, 15}, {0, 28, 15}, {0, 35, 15}, {0, 22, 15}, {0, 8, 15}, {0, 12, 15}, {0, 31, 15}, {0, 3, 15}, {0, 1, 15}, {0, 20, 15}, {0, 30, 15}, {0, 16, 15}, {0, 38, 15}, {0, 24, 15}, {0, 33, 15}, {0, 5, 15}, {0, 39, 15}, {0, 14, 15}, {0, 26, 23}, {0, 37, 23}, {0, 35, 23}, {0, 18, 23}, {0, 3, 23}, {0, 38, 23}, {0, 12, 23}, {0, 29, 23}, {0, 21, 23}, {0, 5, 23}, {0, 1, 23}, {0, 30, 23}, {0, 24, 23}, {0, 39, 23}, {0, 2, 23}, {0, 22, 23}, {0, 28, 23}, {0, 34, 23}, {0, 14, 23}, {0, 7, 23}, {0, 36, 23}, {0, 25, 23}, {0, 20, 23}, {0, 6, 23}, {0, 13, 23}, {0, 31, 23}, {0, 32, 23}, {0, 33, 23}, {0, 11, 23}, {0, 8, 23}, {0, 10, 23}, {0, 16, 23}, {0, 17, 23}, {0, 4, 23}, {0, 22, 39}, {0, 11, 39}, {0, 3, 39}, {0, 7, 39}, {0, 21, 39}, {0, 13, 39}, {0, 25, 39}, {0, 34, 39}, {0, 17, 39}, {0, 8, 39}, {0, 2, 39}, {0, 31, 39}, {0, 24, 39}, {0, 36, 39}, {0, 32, 39}, {0, 29, 39}, {0, 12, 39}, {0, 14, 39}, {0, 28, 39}, {0, 5, 39}, {0, 37, 39}, {0, 33, 39}, {0, 16, 39}, {0, 10, 39}, {0, 18, 39}, {0, 38, 39}, {0, 26, 39}, {0, 35, 39}, {0, 30, 39}, {0, 1, 39}, {0, 20, 39}, {0, 4, 39}, {0, 6, 39}, {0, 16, 22}, {0, 16, 4}, {0, 16, 14}, {0, 16, 6}, {0, 16, 2}, {0, 16, 18}, {0, 16, 5}, {0, 16, 17}, {0, 16, 8}, {0, 16, 3}, {0, 16, 30}, {0, 16, 10}, {0, 16, 35}, {0, 16, 25}, {0, 16, 32}, {0, 16, 11}, {0, 16, 20}, {0, 16, 21}, {0, 16, 36}, {0, 16, 1}, {0, 16, 12}, {0, 16, 34}, {0, 16, 37}, {0, 16, 33}, {0, 16, 31}, {0, 16, 38}, {0, 16, 13}, {0, 16, 28}, {0, 16, 7}, {0, 16, 29}, {0, 16, 24}, {0, 16, 26}, {0, 1, 18}, {0, 1, 6}, {0, 1, 35}, {0, 1, 34}, {0, 1, 13}, {0, 1, 26}, {0, 1, 21}, {0, 1, 33}, {0, 1, 4}, {0, 1, 28}, {0, 1, 38}, {0, 1, 7}, {0, 1, 10}, {0, 1, 5}, {0, 1, 25}, {0, 1, 14}, {0, 1, 11}, {0, 1, 30}, {0, 1, 12}, {0, 1, 8}, {0, 1, 32}, {0, 1, 2}, {0, 1, 37}, {0, 1, 29}, {0, 1, 20}, {0, 1, 31}, {0, 1, 24}, {0, 1, 36}, {0, 1, 3}, {0, 1, 17}, {0, 1, 22}, {0, 33, 37}, {0, 28, 37}, {0, 34, 37}, {0, 32, 37}, {0, 18, 37}, {0, 11, 37}, {0, 37, 38}, {0, 37, 14}, {0, 8, 37}, {0, 37, 31}, {0, 17, 37}, {0, 25, 37}, {0, 29, 37}, {0, 24, 37}, {0, 3, 37}, {0, 10, 37}, {0, 35, 37}, {0, 20, 37}, {0, 5, 37}, {0, 13, 37}, {0, 4, 37}, {0, 37, 22}, {0, 37, 7}, {0, 2, 37}, {0, 36, 37}, {0, 26, 37}, {0, 37, 6}, {0, 21, 37}, {0, 37, 30}, {0, 12, 37}, {0, 20, 30}, {0, 20, 21}, {0, 33, 20}, {0, 10, 20}, {0, 32, 20}, {0, 20, 12}, {0, 20, 6}, {0, 20, 31}, {0, 20, 22}, {0, 20, 5}, {0, 24, 20}, {0, 20, 7}, {0, 25, 20}, {0, 20, 4}, {0, 17, 20}, {0, 2, 20}, {0, 3, 20}, {0, 20, 29}, {0, 8, 20}, {0, 20, 38}, {0, 34, 20}, {0, 18, 20}, {0, 20, 36}, {0, 35, 20}, {0, 20, 28}, {0, 11, 20}, {0, 20, 13}, {0, 20, 14}, {0, 26, 20}, {0, 8, 30}, {0, 21, 30}, {0, 17, 30}, {0, 29, 30}, {0, 26, 30}, {0, 33, 30}, {0, 28, 30}, {0, 30, 31}, {0, 12, 30}, {0, 10, 30}, {0, 35, 30}, {0, 32, 30}, {0, 13, 30}, {0, 30, 22}, {0, 5, 30}, {0, 18, 30}, {0, 4, 30}, {0, 34, 30}, {0, 3, 30}, {0, 30, 7}, {0, 30, 6}, {0, 24, 30}, {0, 30, 14}, {0, 11, 30}, {0, 2, 30}, {0, 38, 30}, {0, 36, 30}, {0, 25, 30}, {0, 8, 21}, {0, 8, 35}, {0, 8, 24}, {0, 8, 7}, {0, 8, 18}, {0, 8, 31}, {0, 8, 22}, {0, 8, 12}, {0, 8, 26}, {0, 8, 10}, {0, 8, 2}, {0, 8, 28}, {0, 8, 3}, {0, 8, 4}, {0, 8, 36}, {0, 8, 17}, {0, 8, 34}, {0, 8, 11}, {0, 8, 32}, {0, 8, 29}, {0, 8, 6}, {0, 8, 14}, {0, 8, 38}, {0, 8, 25}, {0, 8, 33}, {0, 8, 13}, {0, 8, 5}, {0, 13, 29}, {0, 29, 6}, {0, 24, 29}, {0, 28, 29}, {0, 32, 29}, {0, 11, 29}, {0, 29, 14}, {0, 12, 29}, {0, 29, 38}, {0, 25, 29}, {0, 26, 29}, {0, 10, 29}, {0, 29, 31}, {0, 35, 29}, {0, 17, 29}, {0, 4, 29}, {0, 29, 22}, {0, 21, 29}, {0, 5, 29}, {0, 2, 29}, {0, 3, 29}, {0, 29, 7}, {0, 33, 29}, {0, 18, 29}, {0, 34, 29}, {0, 36, 29}, {0, 32, 5}, {0, 4, 5}, {0, 3, 5}, {0, 26, 5}, {0, 5, 38}, {0, 18, 5}, {0, 5, 14}, {0, 5, 7}, {0, 2, 5}, {0, 24, 5}, {0, 28, 5}, {0, 13, 5}, {0, 33, 5}, {0, 34, 5}, {0, 21, 5}, {0, 36, 5}, {0, 25, 5}, {0, 11, 5}, {0, 5, 31}, {0, 5, 6}, {0, 17, 5}, {0, 35, 5}, {0, 5, 22}, {0, 10, 5}, {0, 12, 5}, {0, 25, 3}, {0, 25, 31}, {0, 25, 28}, {0, 25, 14}, {0, 25, 34}, {0, 25, 35}, {0, 25, 22}, {0, 25, 36}, {0, 25, 38}, {0, 25, 26}, {0, 25, 13}, {0, 25, 24}, {0, 25, 12}, {0, 25, 33}, {0, 25, 4}, {0, 25, 21}, {0, 25, 6}, {0, 25, 18}, {0, 25, 17}, {0, 25, 32}, {0, 25, 10}, {0, 25, 11}, {0, 25, 2}, {0, 25, 7}, {0, 3, 7}, {0, 26, 3}, {0, 34, 3}, {0, 3, 36}, {0, 3, 4}, {0, 2, 3}, {0, 3, 31}, {0, 35, 3}, {0, 3, 6}, {0, 3, 13}, {0, 3, 22}, {0, 3, 12}, {0, 32, 3}, {0, 24, 3}, {0, 18, 3}, {0, 33, 3}, {0, 10, 3}, {0, 3, 21}, {0, 11, 3}, {0, 3, 28}, {0, 3, 38}, {0, 17, 3}, {0, 3, 14}, {0, 35, 7}, {0, 32, 35}, {0, 35, 4}, {0, 35, 14}, {0, 33, 35}, {0, 35, 38}, {0, 35, 13}, {0, 11, 35}, {0, 35, 12}, {0, 35, 28}, {0, 34, 35}, {0, 2, 35}, {0, 35, 36}, {0, 17, 35}, {0, 35, 21}, {0, 35, 31}, {0, 10, 35}, {0, 18, 35}, {0, 26, 35}, {0, 35, 22}, {0, 24, 35}, {0, 35, 6}, {0, 2, 18}, {0, 2, 7}, {0, 2, 22}, {0, 33, 2}, {0, 2, 10}, {0, 24, 2}, {0, 2, 26}, {0, 2, 36}, {0, 2, 14}, {0, 17, 2}, {0, 2, 28}, {0, 2, 32}, {0, 2, 4}, {0, 2, 21}, {0, 2, 13}, {0, 2, 12}, {0, 2, 11}, {0, 2, 6}, {0, 2, 34}, {0, 2, 38}, {0, 2, 31}, {0, 12, 14}, {0, 12, 21}, {0, 12, 31}, {0, 26, 12}, {0, 32, 12}, {0, 12, 4}, {0, 12, 13}, {0, 12, 7}, {0, 10, 12}, {0, 17, 12}, {0, 18, 12}, {0, 24, 12}, {0, 34, 12}, {0, 11, 12}, {0, 12, 6}, {0, 12, 28}, {0, 12, 22}, {0, 12, 36}, {0, 12, 38}, {0, 33, 12}, {0, 36, 21}, {0, 26, 21}, {0, 4, 21}, {0, 10, 21}, {0, 21, 38}, {0, 18, 21}, {0, 11, 21}, {0, 21, 6}, {0, 21, 14}, {0, 21, 22}, {0, 21, 31}, {0, 33, 21}, {0, 24, 21}, {0, 34, 21}, {0, 32, 21}, {0, 28, 21}, {0, 21, 7}, {0, 17, 21}, {0, 13, 21}, {0, 34, 22}, {0, 13, 22}, {0, 22, 31}, {0, 4, 22}, {0, 22, 7}, {0, 22, 14}, {0, 22, 6}, {0, 18, 22}, {0, 10, 22}, {0, 24, 22}, {0, 11, 22}, {0, 26, 22}, {0, 33, 22}, {0, 17, 22}, {0, 36, 22}, {0, 38, 22}, {0, 28, 22}, {0, 32, 22}, {0, 17, 34}, {0, 17, 13}, {0, 17, 11}, {0, 17, 10}, {0, 17, 32}, {0, 17, 28}, {0, 17, 7}, {0, 17, 26}, {0, 17, 14}, {0, 17, 6}, {0, 17, 38}, {0, 17, 36}, {0, 17, 33}, {0, 17, 31}, {0, 17, 18}, {0, 17, 4}, {0, 17, 24}, {0, 10, 18}, {0, 24, 10}, {0, 10, 11}, {0, 10, 36}, {0, 33, 10}, {0, 10, 26}, {0, 10, 28}, {0, 10, 4}, {0, 10, 32}, {0, 10, 31}, {0, 10, 7}, {0, 10, 14}, {0, 10, 34}, {0, 10, 38}, {0, 10, 13}, {0, 10, 6}, {0, 24, 13}, {0, 26, 13}, {0, 33, 13}, {0, 18, 13}, {0, 36, 13}, {0, 4, 13}, {0, 13, 6}, {0, 13, 38}, {0, 13, 7}, {0, 32, 13}, {0, 28, 13}, {0, 34, 13}, {0, 13, 14}, {0, 11, 13}, {0, 13, 31}, {0, 18, 6}, {0, 24, 6}, {0, 34, 6}, {0, 36, 6}, {0, 26, 6}, {0, 33, 6}, {0, 6, 31}, {0, 38, 6}, {0, 6, 7}, {0, 28, 6}, {0, 4, 6}, {0, 6, 14}, {0, 32, 6}, {0, 11, 6}, {0, 38, 31}, {0, 11, 38}, {0, 38, 14}, {0, 24, 38}, {0, 34, 38}, {0, 28, 38}, {0, 18, 38}, {0, 4, 38}, {0, 38, 7}, {0, 33, 38}, {0, 36, 38}, {0, 32, 38}, {0, 26, 38}, {0, 28, 7}, {0, 33, 28}, {0, 26, 28}, {0, 11, 28}, {0, 28, 14}, {0, 24, 28}, {0, 28, 36}, {0, 34, 28}, {0, 32, 28}, {0, 28, 4}, {0, 28, 31}, {0, 18, 28}, {0, 14, 7}, {0, 32, 7}, {0, 4, 7}, {0, 33, 7}, {0, 18, 7}, {0, 26, 7}, {0, 36, 7}, {0, 11, 7}, {0, 24, 7}, {0, 31, 7}, {0, 34, 7}, {0, 33, 24}, {0, 33, 18}, {0, 33, 36}, {0, 33, 34}, {0, 33, 26}, {0, 33, 11}, {0, 33, 14}, {0, 33, 31}, {0, 33, 4}, {0, 33, 32}, {0, 32, 26}, {0, 32, 31}, {0, 24, 32}, {0, 32, 34}, {0, 32, 11}, {0, 32, 36}, {0, 32, 4}, {0, 32, 14}, {0, 32, 18}, {0, 26, 36}, {0, 36, 14}, {0, 18, 36}, {0, 36, 4}, {0, 24, 36}, {0, 34, 36}, {0, 11, 36}, {0, 36, 31}, {0, 18, 31}, {0, 26, 31}, {0, 24, 31}, {0, 11, 31}, {0, 4, 31}, {0, 14, 31}, {0, 34, 31}, {0, 34, 11}, {0, 24, 11}, {0, 18, 11}, {0, 26, 11}, {0, 11, 4}, {0, 11, 14}, {0, 24, 34}, {0, 24, 26}, {0, 24, 14}, {0, 24, 4}, {0, 24, 18}, {0, 18, 34}, {0, 18, 26}, {0, 18, 4}, {0, 18, 14}, {0, 26, 14}, {0, 26, 4}, {0, 26, 34}, {0, 4, 14}, {0, 34, 14}, {0, 34, 4}] 3-nodes-graphs in the subgraph\n"
     ]
    }
   ],
   "source": [
    "# Recompute sub_G\n",
    "sub_G = gl.connected_random_subgraph(G, 40)\n",
    "# Convert to igraph\n",
    "igraph_sub_G = igraph.Graph.from_networkx(sub_G)\n",
    "esu_k3 = gl.enumerate_subgraphs(igraph_sub_G, 3)\n",
    "print(f\"there are {esu_k3} 3-nodes-graphs in the subgraph\")"
   ]
  }
 ],
 "metadata": {
  "interpreter": {
   "hash": "5204a74533213595f4cb17824e0251b8e042fe549e56b4e3fea578127d6ef366"
  },
  "kernelspec": {
   "display_name": "Python 3.9.5 64-bit ('.venv': venv)",
   "language": "python",
   "name": "python3"
  },
  "language_info": {
   "codemirror_mode": {
    "name": "ipython",
    "version": 3
   },
   "file_extension": ".py",
   "mimetype": "text/x-python",
   "name": "python",
   "nbconvert_exporter": "python",
   "pygments_lexer": "ipython3",
   "version": "3.9.9"
  },
  "orig_nbformat": 4
 },
 "nbformat": 4,
 "nbformat_minor": 2
}
