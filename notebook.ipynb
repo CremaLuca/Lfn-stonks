{
 "cells": [
  {
   "cell_type": "markdown",
   "metadata": {},
   "source": [
    "# Learning from networks - Stonks"
   ]
  },
  {
   "cell_type": "code",
   "execution_count": 1,
   "metadata": {},
   "outputs": [],
   "source": [
    "import networkx as nx\n",
    "import extended_networkx as ex\n",
    "import scipy\n",
    "import numpy as np"
   ]
  },
  {
   "cell_type": "markdown",
   "metadata": {},
   "source": [
    "## Load graph and compute market capitalization\n",
    "\n",
    "First of all let's start by loading the graph file and compute the market capitalization of every node."
   ]
  },
  {
   "cell_type": "code",
   "execution_count": 2,
   "metadata": {},
   "outputs": [],
   "source": [
    "G = nx.read_gml(\"out_graph.gml\")\n",
    "\n",
    "def compute_capitalization(G: nx.Graph):\n",
    "    \"\"\"\n",
    "    Adds the 'capitalization' attribute to every node, which is the sum of the incoming edges weighs.\n",
    "    \"\"\"\n",
    "    for node in G.nodes():\n",
    "        capitalization = 0\n",
    "        for edge in G.in_edges(node):\n",
    "            capitalization += G.get_edge_data(*edge)[\"weight\"]\n",
    "        G.nodes[node][\"capitalization\"] = capitalization\n",
    "\n",
    "compute_capitalization(G)"
   ]
  },
  {
   "cell_type": "markdown",
   "metadata": {},
   "source": [
    "Now let's print the top 20 capitalization nodes."
   ]
  },
  {
   "cell_type": "code",
   "execution_count": 3,
   "metadata": {},
   "outputs": [
    {
     "name": "stdout",
     "output_type": "stream",
     "text": [
      "Top 20 nodes with highest capitalization: ['CPIN', 'AAPL', 'MSFT', 'AMZN', 'ADRO', 'FB', 'GOOGL', 'GOOG', 'TSLA', 'NVDA', 'JPM', 'JNJ', 'UNVR', 'V', 'UNH', 'PG', 'HD', 'PYPL', 'ADBE', 'BAC']\n"
     ]
    }
   ],
   "source": [
    "k = 20\n",
    "print(f\"Top {k} nodes with highest capitalization: {ex.max_k_nodes(G, k, 'capitalization')}\")"
   ]
  },
  {
   "cell_type": "code",
   "execution_count": 4,
   "metadata": {},
   "outputs": [
    {
     "name": "stdout",
     "output_type": "stream",
     "text": [
      "There are 2 components with more than 20 nodes.\n",
      "DiGraph with 20 nodes and 38 edges\n",
      "VONV: 0\n",
      "OPEN: 3\n",
      "NUMG: 0\n",
      "XRX: 3\n",
      "BRK: 4\n",
      "PINC: 3\n",
      "RNMC: 0\n",
      "VOO: 0\n",
      "FTCS: 0\n",
      "DPZ: 4\n",
      "MMM: 7\n",
      "VOOV: 0\n",
      "UGE: 0\n",
      "SUSA: 0\n",
      "IWS: 0\n",
      "DUSL: 0\n",
      "VTV: 0\n",
      "BWA: 7\n",
      "SLB: 5\n",
      "CHNG: 2\n"
     ]
    }
   ],
   "source": [
    "sub_G = ex.connected_random_subgraph(G, k)\n",
    "print(sub_G)\n",
    "for node in sub_G.nodes():\n",
    "    print(f\"{node}: {len(sub_G.in_edges(node))}\")"
   ]
  },
  {
   "cell_type": "code",
   "execution_count": 5,
   "metadata": {},
   "outputs": [
    {
     "name": "stdout",
     "output_type": "stream",
     "text": [
      "[('IEMG', 0.0006646842104818762), ('HNDL', 0.0004765202732830068), ('IDEV', 0.0004735350248990882), ('CPI', 0.00038295139424955816), ('ITOT', 0.00038183192610558866), ('VWO', 0.0002395661828094678), ('VEA', 0.00021913588918202485), ('SMCP', 0.00015224766757984868), ('SCZ', 0.0001517812225198614), ('GEM', 0.00010914814403702388), ('IWM', 0.00010896156601302897), ('MCRO', 8.470642289369032e-05), ('FM', 8.078828438979717e-05), ('VTI', 5.933181163038221e-05), ('IJR', 5.242842474257045e-05), ('UPRO', 4.5804904890751045e-05), ('JKH', 3.8994807014936735e-05), ('IGM', 3.6755870726997783e-05), ('CRBN', 3.656929270300287e-05), ('EEM', 3.2557865187112254e-05)]\n"
     ]
    }
   ],
   "source": [
    "b_centralities = ex.betweenness_centrality_percent(G, percentage=0.02)\n",
    "print(sorted(b_centralities.items(), key=lambda t: t[1], reverse=True)[:k])"
   ]
  },
  {
   "cell_type": "code",
   "execution_count": 6,
   "metadata": {},
   "outputs": [
    {
     "name": "stdout",
     "output_type": "stream",
     "text": [
      "Top 20 nodes by clustering coefficient\n",
      "[('RELIANCEP1', 0.00016589196490068256), ('TATAMTRDVR', 4.4570382724807e-05), ('WHIRLPOOL', 3.127923241268114e-05), ('GLAXO', 3.102642871368198e-05), ('CADILAHC', 2.6203799127153454e-05), ('RWVG', 2.3440949852530024e-05), ('BAJAJHLDNG', 2.327737443598335e-05), ('CHT', 2.276084431203389e-05), ('BOSCHLTD', 2.2435231450985962e-05), ('TVSMOTOR', 2.178549609819416e-05), ('UNA', 2.0883890679729935e-05), ('HONAUT', 1.925677269269553e-05), ('AUOTY', 1.9130916486344096e-05), ('PFIZER', 1.882216126163122e-05), ('KANSAINER', 1.761364406751079e-05), ('BANKBARODA', 1.720363579034824e-05), ('KNIP11', 1.5558204365693597e-05), ('SSI', 1.5216670357133018e-05), ('4161', 1.4634795460600534e-05), ('9USDUSD953', 1.4543323738002963e-05)]\n",
      "Global clustering coefficient: 0.00011406233747100072\n"
     ]
    }
   ],
   "source": [
    "def local_clustering_coefficient(G):\n",
    "    return nx.clustering(G, weight=\"weight\")\n",
    "\n",
    "def global_clustering_coefficient(G):\n",
    "    return nx.transitivity(G)\n",
    "\n",
    "nodes_clustering_coeff = local_clustering_coefficient(G)\n",
    "# Print top k nodes with highest clustering coefficient\n",
    "print(f\"Top {k} nodes by clustering coefficient\") \n",
    "print(sorted(nodes_clustering_coeff.items(), key=lambda t: t[1], reverse=True)[:k])\n",
    "print(f\"Global clustering coefficient: {global_clustering_coefficient(G)}\")\n"
   ]
  },
  {
   "cell_type": "code",
   "execution_count": 7,
   "metadata": {},
   "outputs": [
    {
     "name": "stdout",
     "output_type": "stream",
     "text": [
      "[(3, 5.5350745255534096e-08), (6, 5.535074525553409e-08), (17, 5.530941232012373e-08), (12, 5.522193423636232e-08), (5, 5.461359993357783e-08), (0, 5.459762709356159e-08), (11, 5.373731117387403e-08), (1, 5.159819956369824e-08), (19, 4.9837236989454576e-08), (9, 4.961422232334373e-08), (2, 4.88813735913777e-08), (18, 4.409144360800137e-08), (14, 4.3490127301770964e-08), (10, 3.46487222884248e-08), (15, 3.284736550945351e-08), (13, 3.159240436577959e-08), (16, 2.6431083987830447e-08), (4, 2.3706323507168625e-08), (7, 1.4772790544884634e-08), (8, 6.541687243729823e-09)]\n"
     ]
    }
   ],
   "source": [
    "def closeness_centrality_matrix(G):\n",
    "    A = nx.adjacency_matrix(G).tolil()  # matrix converted into list of lists\n",
    "    D = scipy.sparse.csgraph.floyd_warshall(A, directed=False, unweighted=False)\n",
    "\n",
    "    n = D.shape[0]\n",
    "    centralities = {}\n",
    "    for r in range(0, n):\n",
    "\n",
    "        cc = 0.0\n",
    "\n",
    "        possible_paths = list(enumerate(D[r, :]))\n",
    "        shortest_paths = dict(filter(lambda x: not x[1] == np.inf, possible_paths))\n",
    "\n",
    "        total = sum(shortest_paths.values())\n",
    "        n_shortest_paths = len(shortest_paths) - 1.0\n",
    "        if total > 0.0 and n > 1:\n",
    "            s = n_shortest_paths / (n - 1)\n",
    "            cc = (n_shortest_paths / total) * s\n",
    "        centralities[r] = cc\n",
    "    return centralities\n",
    "\n",
    "c_centralities = closeness_centrality_matrix(sub_G)\n",
    "print(sorted(c_centralities.items(), key=lambda t: t[1], reverse=True)[:k])"
   ]
  }
 ],
 "metadata": {
  "interpreter": {
   "hash": "5204a74533213595f4cb17824e0251b8e042fe549e56b4e3fea578127d6ef366"
  },
  "kernelspec": {
   "display_name": "Python 3.9.5 64-bit ('.venv': venv)",
   "language": "python",
   "name": "python3"
  },
  "language_info": {
   "codemirror_mode": {
    "name": "ipython",
    "version": 3
   },
   "file_extension": ".py",
   "mimetype": "text/x-python",
   "name": "python",
   "nbconvert_exporter": "python",
   "pygments_lexer": "ipython3",
   "version": "3.9.5"
  },
  "orig_nbformat": 4
 },
 "nbformat": 4,
 "nbformat_minor": 2
}
