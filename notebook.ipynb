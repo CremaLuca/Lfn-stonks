{
 "cells": [
  {
   "cell_type": "markdown",
   "metadata": {},
   "source": [
    "# Learning from networks - Stonks"
   ]
  },
  {
   "cell_type": "code",
   "execution_count": 1,
   "metadata": {},
   "outputs": [],
   "source": [
    "import networkx as nx\n",
    "import extended_networkx as ex"
   ]
  },
  {
   "cell_type": "markdown",
   "metadata": {},
   "source": [
    "## Load graph and compute market capitalization\n",
    "\n",
    "First of all let's start by loading the graph file and compute the market capitalization of every node."
   ]
  },
  {
   "cell_type": "code",
   "execution_count": 2,
   "metadata": {},
   "outputs": [],
   "source": [
    "G = nx.read_gml(\"out_graph.gml\")\n",
    "\n",
    "def compute_capitalization(G: nx.Graph):\n",
    "    \"\"\"\n",
    "    Adds the 'capitalization' attribute to every node, which is the sum of the incoming edges weighs.\n",
    "    \"\"\"\n",
    "    for node in G.nodes():\n",
    "        capitalization = 0\n",
    "        for edge in G.in_edges(node):\n",
    "            capitalization += G.get_edge_data(*edge)[\"weight\"]\n",
    "        G.nodes[node][\"capitalization\"] = capitalization\n",
    "\n",
    "compute_capitalization(G)"
   ]
  },
  {
   "cell_type": "markdown",
   "metadata": {},
   "source": [
    "Now let's print the top 20 capitalization nodes."
   ]
  },
  {
   "cell_type": "code",
   "execution_count": 3,
   "metadata": {},
   "outputs": [
    {
     "name": "stdout",
     "output_type": "stream",
     "text": [
      "Top 20 nodes with highest capitalization: ['CPIN', 'AAPL', 'MSFT', 'AMZN', 'ADRO', 'FB', 'GOOGL', 'GOOG', 'TSLA', 'NVDA', 'JPM', 'JNJ', 'UNVR', 'V', 'UNH', 'PG', 'HD', 'PYPL', 'ADBE', 'BAC']\n"
     ]
    }
   ],
   "source": [
    "k = 20\n",
    "print(f\"Top {k} nodes with highest capitalization: {ex.max_k_nodes(G, k, 'capitalization')}\")"
   ]
  }
 ],
 "metadata": {
  "interpreter": {
   "hash": "5204a74533213595f4cb17824e0251b8e042fe549e56b4e3fea578127d6ef366"
  },
  "kernelspec": {
   "display_name": "Python 3.9.5 64-bit ('.venv': venv)",
   "language": "python",
   "name": "python3"
  },
  "language_info": {
   "codemirror_mode": {
    "name": "ipython",
    "version": 3
   },
   "file_extension": ".py",
   "mimetype": "text/x-python",
   "name": "python",
   "nbconvert_exporter": "python",
   "pygments_lexer": "ipython3",
   "version": "3.9.5"
  },
  "orig_nbformat": 4
 },
 "nbformat": 4,
 "nbformat_minor": 2
}
