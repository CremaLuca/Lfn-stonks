{
 "cells": [
  {
   "cell_type": "markdown",
   "metadata": {},
   "source": [
    "# Learning from networks - Stonks"
   ]
  },
  {
   "cell_type": "code",
   "execution_count": 17,
   "metadata": {},
   "outputs": [],
   "source": [
    "import networkx as nx\n",
    "import extended_networkx as ex\n",
    "import scipy\n",
    "import numpy as np"
   ]
  },
  {
   "cell_type": "markdown",
   "metadata": {},
   "source": [
    "## Load graph and compute market capitalization\n",
    "\n",
    "First of all let's start by loading the graph file and compute the market capitalization of every node."
   ]
  },
  {
   "cell_type": "code",
   "execution_count": 10,
   "metadata": {},
   "outputs": [],
   "source": [
    "G = nx.read_gml(\"out_graph.gml\")\n",
    "\n",
    "def compute_capitalization(G: nx.Graph):\n",
    "    \"\"\"\n",
    "    Adds the 'capitalization' attribute to every node, which is the sum of the incoming edges weighs.\n",
    "    \"\"\"\n",
    "    for node in G.nodes():\n",
    "        capitalization = 0\n",
    "        for edge in G.in_edges(node):\n",
    "            capitalization += G.get_edge_data(*edge)[\"weight\"]\n",
    "        G.nodes[node][\"capitalization\"] = capitalization\n",
    "\n",
    "compute_capitalization(G)"
   ]
  },
  {
   "cell_type": "markdown",
   "metadata": {},
   "source": [
    "Now let's print the top 20 capitalization nodes."
   ]
  },
  {
   "cell_type": "code",
   "execution_count": 11,
   "metadata": {},
   "outputs": [
    {
     "name": "stdout",
     "output_type": "stream",
     "text": [
      "Top 20 nodes with highest capitalization: ['CPIN', 'AAPL', 'MSFT', 'AMZN', 'ADRO', 'GOOGL', 'FB', 'GOOG', 'TSLA', 'NVDA', 'JPM', 'UNVR', 'JNJ', 'V', 'UNH', 'HD', 'PG', 'BAC', 'MA', 'PYPL']\n"
     ]
    }
   ],
   "source": [
    "k = 20\n",
    "print(f\"Top {k} nodes with highest capitalization: {ex.max_k_nodes(G, k, 'capitalization')}\")"
   ]
  },
  {
   "cell_type": "code",
   "execution_count": 12,
   "metadata": {},
   "outputs": [
    {
     "name": "stdout",
     "output_type": "stream",
     "text": [
      "There are 3 components with more than 20 nodes.\n",
      "DiGraph with 20 nodes and 27 edges\n",
      "288: 1\n",
      "FII: 2\n",
      "TINS: 2\n",
      "4543: 1\n",
      "6USD3588: 2\n",
      "4547: 2\n",
      "VSS: 0\n",
      "LU: 1\n",
      "92USD1: 1\n",
      "MGAM: 2\n",
      "2541: 2\n",
      "VT: 0\n",
      "ALNY: 1\n",
      "1711: 2\n",
      "TGR: 2\n",
      "3USDUSD296: 1\n",
      "UWL: 2\n",
      "SNGSP: 1\n",
      "669: 1\n",
      "6USD1288: 1\n"
     ]
    }
   ],
   "source": [
    "sub_G = ex.connected_random_subgraph(G, k)\n",
    "print(sub_G)\n",
    "for node in sub_G.nodes():\n",
    "    print(f\"{node}: {len(sub_G.in_edges(node))}\")"
   ]
  },
  {
   "cell_type": "code",
   "execution_count": 13,
   "metadata": {},
   "outputs": [
    {
     "name": "stdout",
     "output_type": "stream",
     "text": [
      "[('VXF', 0.0002176437286573036), ('EZU', 4.8391164508743804e-05), ('CEY', 3.8992559523899505e-05), ('VHT', 3.456511750624558e-05), ('HART', 2.8972559168156405e-05), ('VGT', 2.617627999911182e-05), ('IGM', 2.5088838100038925e-05), ('VOO', 2.2913954301893136e-05), ('SMIN', 2.0195349554210896e-05), ('VOE', 1.530186100838287e-05), ('FVL', 1.4292093530672327e-05), ('BMED', 1.3515349317048832e-05), ('EDEN', 1.3204651631599433e-05), ('BFIT', 1.0253023619830148e-05), ('PFFD', 9.553953827569001e-06), ('VOX', 8.466511928496107e-06), ('IG', 4.505116439016277e-06), ('HYDR', 3.8837210681174805e-06), ('IPO', 3.806046646755131e-06), ('CTEC', 2.951628011769285e-06)]\n"
     ]
    }
   ],
   "source": [
    "b_centralities = ex.betweenness_centrality_percent(G, percentage=0.02)\n",
    "print(sorted(b_centralities.items(), key=lambda t: t[1], reverse=True)[:k])"
   ]
  },
  {
   "cell_type": "code",
   "execution_count": 14,
   "metadata": {},
   "outputs": [
    {
     "name": "stdout",
     "output_type": "stream",
     "text": [
      "[('RWVG', 2.220278602733271e-05), ('UNA', 1.9880340687835788e-05), ('SSI', 1.5219529225139582e-05), ('HPG', 1.2501223578956097e-05), ('PDR', 1.2427193087025836e-05), ('CRHl', 1.2137344349100604e-05), ('VIC', 1.1967758246053812e-05), ('KRZ', 1.1909451311225256e-05), ('BCM', 1.1672895376409549e-05), ('RWGV', 1.1043518322844037e-05), ('VHM', 1.0180368464746611e-05), ('VCI', 8.455830606685144e-06), ('NVL', 8.304115970363736e-06), ('HSG', 8.276992510958094e-06), ('GEX', 7.798399073501852e-06), ('EXK', 7.639429907146357e-06), ('VCB', 7.093919710666592e-06), ('NOVO', 6.784985924541269e-06), ('JETl', 6.676593093953429e-06), ('DGC', 6.654628072496844e-06)]\n"
     ]
    }
   ],
   "source": [
    "def clustering_coefficient(G):\n",
    "    return nx.clustering(G, weight=\"weight\")\n",
    "\n",
    "clustering_coeff = clustering_coefficient(G)\n",
    "print(sorted(clustering_coeff.items(), key=lambda t: t[1], reverse=True)[:k])"
   ]
  },
  {
   "cell_type": "code",
   "execution_count": 18,
   "metadata": {},
   "outputs": [
    {
     "name": "stdout",
     "output_type": "stream",
     "text": [
      "[(11, 4.871653647037567e-07), (1, 4.772611838345939e-07), (10, 4.721475281192233e-07), (15, 4.684478678249572e-07), (13, 4.650478864276933e-07), (2, 4.6375752084695123e-07), (4, 4.602320213531264e-07), (14, 4.521128784735396e-07), (5, 4.4944384015364705e-07), (9, 3.973707305133562e-07), (6, 3.887290621220763e-07), (16, 3.631035323648015e-07), (8, 3.0958707516038663e-07), (17, 2.9401120910160723e-07), (7, 2.9237211648718743e-07), (19, 2.867771489070786e-07), (0, 2.812883305557203e-07), (12, 1.0059935669163293e-07), (18, 9.29467138296442e-08), (3, 7.680938787226027e-08)]\n"
     ]
    }
   ],
   "source": [
    "def closeness_centrality_matrix(G):\n",
    "    A = nx.adjacency_matrix(G).tolil()  # matrix converted into list of lists\n",
    "    D = scipy.sparse.csgraph.floyd_warshall(A, directed=False, unweighted=False)\n",
    "\n",
    "    n = D.shape[0]\n",
    "    centralities = {}\n",
    "    for r in range(0, n):\n",
    "\n",
    "        cc = 0.0\n",
    "\n",
    "        possible_paths = list(enumerate(D[r, :]))\n",
    "        shortest_paths = dict(filter(lambda x: not x[1] == np.inf, possible_paths))\n",
    "\n",
    "        total = sum(shortest_paths.values())\n",
    "        n_shortest_paths = len(shortest_paths) - 1.0\n",
    "        if total > 0.0 and n > 1:\n",
    "            s = n_shortest_paths / (n - 1)\n",
    "            cc = (n_shortest_paths / total) * s\n",
    "        centralities[r] = cc\n",
    "    return centralities\n",
    "\n",
    "c_centralities = closeness_centrality_matrix(sub_G)\n",
    "print(sorted(c_centralities.items(), key=lambda t: t[1], reverse=True)[:k])"
   ]
  }
 ],
 "metadata": {
  "interpreter": {
   "hash": "5204a74533213595f4cb17824e0251b8e042fe549e56b4e3fea578127d6ef366"
  },
  "kernelspec": {
   "display_name": "Python 3.9.5 64-bit ('.venv': venv)",
   "language": "python",
   "name": "python3"
  },
  "language_info": {
   "codemirror_mode": {
    "name": "ipython",
    "version": 3
   },
   "file_extension": ".py",
   "mimetype": "text/x-python",
   "name": "python",
   "nbconvert_exporter": "python",
   "pygments_lexer": "ipython3",
   "version": "3.9.9"
  },
  "orig_nbformat": 4
 },
 "nbformat": 4,
 "nbformat_minor": 2
}
