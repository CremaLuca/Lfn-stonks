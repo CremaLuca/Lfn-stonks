{
 "cells": [
  {
   "cell_type": "markdown",
   "metadata": {},
   "source": [
    "# Learning from networks - Stonks"
   ]
  },
  {
   "cell_type": "markdown",
   "metadata": {},
   "source": [
    "Start by importing the libraries we will use throughout the notebook."
   ]
  },
  {
   "cell_type": "code",
   "execution_count": 1,
   "metadata": {},
   "outputs": [],
   "source": [
    "import networkx as nx\n",
    "import extended_networkx as ex\n",
    "import matplotlib.pyplot as plt\n",
    "from node2vec import Node2Vec\n",
    "import igraph\n",
    "\n",
    "%matplotlib inline"
   ]
  },
  {
   "cell_type": "markdown",
   "metadata": {},
   "source": [
    "## Load graph and compute market capitalization\n",
    "\n",
    "First of all let's start by loading the graph file, then we compute what we called \"market capitalization\" which is how much an node has been bought.\n",
    "Note: we compute the longest path which in this specific case indicates how long is the path of ETF buying other ETF's"
   ]
  },
  {
   "cell_type": "code",
   "execution_count": 2,
   "metadata": {},
   "outputs": [
    {
     "name": "stdout",
     "output_type": "stream",
     "text": [
      "The graph contains 23155 nodes and 385903 edges.\n",
      "There are 5 connected components.\n",
      "Sizes: [22984, 127, 18, 13, 13]\n",
      "Longest path: 7\n"
     ]
    }
   ],
   "source": [
    "# Load Graph\n",
    "G = nx.read_gml(\"out_graph.gml\")\n",
    "G_undirected = G.to_undirected() # Needed to compute the number of connected components\n",
    "\n",
    "print(f\"The graph contains {len(G.nodes())} nodes and {len(G.edges())} edges.\")\n",
    "print(f\"There are {nx.number_connected_components(G_undirected)} connected components.\")\n",
    "print(f\"Sizes: {[len(c) for c in sorted(nx.connected_components(G_undirected), key=len, reverse=True)]}\")\n",
    "print(f\"Longest path: {ex.longest_path(G) - 2}\") # -2 because the last two nodes are an ETF not buying an ETF and a component node\n",
    "\n",
    "#print(f\"The diameter of the graph is {nx.diameter(G)}.\")\n",
    "\n",
    "\n",
    "def compute_capitalization(G: nx.Graph):\n",
    "    \"\"\"\n",
    "    Adds the 'capitalization' attribute to every node, which is the sum of the incoming edges weights.\n",
    "    \"\"\"\n",
    "    for node in G.nodes():\n",
    "        capitalization = 0\n",
    "        for edge in G.in_edges(node):\n",
    "            capitalization += G.get_edge_data(*edge)[\"weight\"]\n",
    "        G.nodes[node][\"capitalization\"] = capitalization\n",
    "\n",
    "compute_capitalization(G)"
   ]
  },
  {
   "cell_type": "markdown",
   "metadata": {},
   "source": [
    "Now let's print the top 20 capitalization nodes."
   ]
  },
  {
   "cell_type": "code",
   "execution_count": 3,
   "metadata": {},
   "outputs": [
    {
     "name": "stdout",
     "output_type": "stream",
     "text": [
      "Top 20 nodes with highest capitalization: ['CPIN', 'AAPL', 'MSFT', 'AMZN', 'ADRO', 'FB', 'GOOGL', 'GOOG', 'TSLA', 'NVDA', 'JPM', 'JNJ', 'UNVR', 'V', 'UNH', 'PG', 'HD', 'PYPL', 'ADBE', 'BAC']\n"
     ]
    }
   ],
   "source": [
    "k = 20\n",
    "print(f\"Top {k} nodes with highest capitalization: {ex.max_k_nodes(G, k, 'capitalization')}\")"
   ]
  },
  {
   "cell_type": "markdown",
   "metadata": {},
   "source": [
    "## Node-level features\n",
    "\n",
    "### Betweenness centrality\n",
    "\n",
    "We try to compute betweenness centralities of the nodes. The graph is too big to compute the exact betweenness centrality of each node, so we only use a small percentage of the nodes."
   ]
  },
  {
   "cell_type": "code",
   "execution_count": 4,
   "metadata": {},
   "outputs": [
    {
     "name": "stdout",
     "output_type": "stream",
     "text": [
      "[('MCRO', 0.0013223717450639432), ('SMCP', 0.001290653480984808), ('SCZ', 0.001078420978690595), ('GEM', 0.0005616931412366844), ('VWO', 0.0004926592723585668), ('VGK', 0.0004586087829794952), ('CRBN', 0.000313824236359443), ('CPI', 0.00030841347366359056), ('IEUR', 0.0003076671615676109), ('HNDL', 0.00019879888456657938), ('FM', 0.00018098068327506524), ('ITOT', 0.0001477697950039708), ('VEA', 0.00011418575068488652), ('IWN', 0.00010569645059311799), ('IWO', 0.00010541658355712563), ('ESML', 9.841990765731641e-05), ('ESGE', 9.655412741736728e-05), ('IEMG', 9.105007570951735e-05), ('PICK', 8.843798337358858e-05), ('ESGD', 7.854934810185821e-05)]\n"
     ]
    }
   ],
   "source": [
    "b_centralities = ex.betweenness_centrality_percent(G, percentage=0.02)\n",
    "print(sorted(b_centralities.items(), key=lambda t: t[1], reverse=True)[:k])"
   ]
  },
  {
   "cell_type": "markdown",
   "metadata": {},
   "source": [
    "## Closeness Centrality\n",
    "\n",
    "Since the graph has more than one connected component, in order to compute closeness centrality for all the nodes, we use an algotithm found on the internet which basically computes the shortest paths using the Floyd — Warshall Method and uses the shortest path Matrix to calculate the closeness metric for each node. It returnes for each node the quantity $$c(v) = \\frac{(n_v - 1)^2}{(n - 1) \\sum_{u \\in C_v}d(v, u)}$$ \n",
    "While `ex.closeness_centrality_matrix(G)` takes approximately two minutes to be executed, `nx.closeness_centrality(G, wf_improved=True)` takes more than 30 minutes.\n",
    "\n",
    "As an approximation we compute the closeness centrality of the nodes in a small random connected subgraph.\n",
    "We devised our own algorithm to draw a connected sample of `k` nodes from the graph `G`: `connected_random_subgraph(G, n)`."
   ]
  },
  {
   "cell_type": "code",
   "execution_count": 5,
   "metadata": {},
   "outputs": [
    {
     "name": "stdout",
     "output_type": "stream",
     "text": [
      "There are 1 components with more than 8000 nodes.\n",
      "[('NVDA', 0.017291433459833822), ('MRK', 0.01709198024753094), ('T', 0.01683340498863171), ('AMZN', 0.015798988147854767), ('QCOM', 0.01575244982545895), ('ADM', 0.01568196024503063), ('AVGO', 0.015680330827870338), ('DTE', 0.015495024435658143), ('LRCX', 0.014839548742042368), ('TEL', 0.01464194013262647), ('NEM', 0.014482788609445746), ('CSCO', 0.014467183984852566), ('ADP', 0.014262199441596866), ('KLAC', 0.014168922278075455), ('FB', 0.014134932695732695), ('K', 0.014118568099700987), ('LH', 0.013947087515494092), ('HPQ', 0.01390509461830877), ('GWW', 0.013835570909778357), ('BIIB', 0.013818431339791914)]\n"
     ]
    }
   ],
   "source": [
    "sub_G = ex.connected_random_subgraph(G, 8000)\n",
    "c_centralities = nx.closeness_centrality(sub_G)\n",
    "print(sorted(c_centralities.items(), key=lambda t: t[1], reverse=True)[:k])"
   ]
  },
  {
   "cell_type": "markdown",
   "metadata": {},
   "source": [
    "### Clustering coefficients\n",
    "\n",
    "The computation for the exact clustering coefficient is doable ..."
   ]
  },
  {
   "cell_type": "code",
   "execution_count": 6,
   "metadata": {},
   "outputs": [
    {
     "name": "stdout",
     "output_type": "stream",
     "text": [
      "Top 20 nodes by clustering coefficient:\n",
      "[('RELIANCEP1', 0.00016589196490068256), ('TATAMTRDVR', 4.4570382724807e-05), ('WHIRLPOOL', 3.127923241268114e-05), ('GLAXO', 3.102642871368198e-05), ('CADILAHC', 2.6203799127153454e-05), ('RWVG', 2.3440949852530024e-05), ('BAJAJHLDNG', 2.327737443598335e-05), ('CHT', 2.276084431203389e-05), ('BOSCHLTD', 2.2435231450985962e-05), ('TVSMOTOR', 2.178549609819416e-05), ('UNA', 2.0883890679729935e-05), ('HONAUT', 1.925677269269553e-05), ('AUOTY', 1.9130916486344096e-05), ('PFIZER', 1.882216126163122e-05), ('KANSAINER', 1.761364406751079e-05), ('BANKBARODA', 1.720363579034824e-05), ('KNIP11', 1.5558204365693597e-05), ('SSI', 1.5216670357133018e-05), ('4161', 1.4634795460600534e-05), ('9USDUSD953', 1.4543323738002963e-05)]\n",
      "\n",
      "Global clustering coefficient: 0.00011406233747100072\n"
     ]
    }
   ],
   "source": [
    "nodes_clustering_coeff = nx.clustering(G, weight=\"weight\")\n",
    "# Print top k nodes with highest clustering coefficient\n",
    "print(f\"Top {k} nodes by clustering coefficient:\") \n",
    "print(sorted(nodes_clustering_coeff.items(), key=lambda t: t[1], reverse=True)[:k])\n",
    "print(f\"\\nGlobal clustering coefficient: {nx.transitivity(G)}\")\n"
   ]
  },
  {
   "cell_type": "markdown",
   "metadata": {},
   "source": [
    "## Cycles\n",
    "\n",
    "It might be interesting to find whether there are cycles in the graph. There shouldn't be, but you never know."
   ]
  },
  {
   "cell_type": "code",
   "execution_count": 7,
   "metadata": {},
   "outputs": [
    {
     "name": "stdout",
     "output_type": "stream",
     "text": [
      "There is actually a cycle in the graph: [('BFIT', 'BFIT', 'forward')]\n"
     ]
    }
   ],
   "source": [
    "cycle = list(nx.find_cycle(G, orientation=\"original\"))\n",
    "if cycle:\n",
    "    print(f\"There is actually a cycle in the graph: {cycle}\")\n",
    "else:\n",
    "    print(\"There is no cycle in the graph.\")"
   ]
  },
  {
   "cell_type": "markdown",
   "metadata": {},
   "source": [
    "## Embeddings\n",
    "\n",
    "Let's try some embeddings now\n",
    "\n",
    "### Node2Vec"
   ]
  },
  {
   "cell_type": "code",
   "execution_count": 8,
   "metadata": {},
   "outputs": [
    {
     "name": "stderr",
     "output_type": "stream",
     "text": [
      "Computing transition probabilities:  38%|███▊      | 8859/23155 [00:00<00:00, 15471.09it/s]/home/luca/Projects/LFN-stonks/.venv/lib/python3.9/site-packages/node2vec/node2vec.py:132: RuntimeWarning: invalid value encountered in true_divide\n",
      "  d_graph[source][self.FIRST_TRAVEL_KEY] = first_travel_weights / first_travel_weights.sum()\n",
      "Computing transition probabilities: 100%|██████████| 23155/23155 [00:05<00:00, 3941.95it/s]\n",
      "Generating walks (CPU: 1): 100%|██████████| 150/150 [00:28<00:00,  5.22it/s]\n",
      "Generating walks (CPU: 2): 100%|██████████| 150/150 [00:32<00:00,  4.55it/s]\n"
     ]
    },
    {
     "ename": "TypeError",
     "evalue": "'Word2Vec' object is not subscriptable",
     "output_type": "error",
     "traceback": [
      "\u001b[0;31m---------------------------------------------------------------------------\u001b[0m",
      "\u001b[0;31mTypeError\u001b[0m                                 Traceback (most recent call last)",
      "\u001b[0;32m/tmp/ipykernel_72084/3894865352.py\u001b[0m in \u001b[0;36m<module>\u001b[0;34m\u001b[0m\n\u001b[1;32m      5\u001b[0m \u001b[0max\u001b[0m \u001b[0;34m=\u001b[0m \u001b[0mfigure\u001b[0m\u001b[0;34m.\u001b[0m\u001b[0madd_subplot\u001b[0m\u001b[0;34m(\u001b[0m\u001b[0;36m111\u001b[0m\u001b[0;34m)\u001b[0m\u001b[0;34m\u001b[0m\u001b[0;34m\u001b[0m\u001b[0m\n\u001b[1;32m      6\u001b[0m \u001b[0;34m\u001b[0m\u001b[0m\n\u001b[0;32m----> 7\u001b[0;31m \u001b[0max\u001b[0m\u001b[0;34m.\u001b[0m\u001b[0mscatter\u001b[0m\u001b[0;34m(\u001b[0m\u001b[0mmodel\u001b[0m\u001b[0;34m[\u001b[0m\u001b[0;34m:\u001b[0m\u001b[0;34m,\u001b[0m \u001b[0;36m0\u001b[0m\u001b[0;34m]\u001b[0m\u001b[0;34m,\u001b[0m \u001b[0mmodel\u001b[0m\u001b[0;34m[\u001b[0m\u001b[0;34m:\u001b[0m\u001b[0;34m,\u001b[0m \u001b[0;36m1\u001b[0m\u001b[0;34m]\u001b[0m\u001b[0;34m)\u001b[0m\u001b[0;34m\u001b[0m\u001b[0;34m\u001b[0m\u001b[0m\n\u001b[0m",
      "\u001b[0;31mTypeError\u001b[0m: 'Word2Vec' object is not subscriptable"
     ]
    },
    {
     "data": {
      "image/png": "[encoded data removed]",
      "text/plain": [
       "<Figure size 792x648 with 1 Axes>"
      ]
     },
     "metadata": {
      "needs_background": "light"
     },
     "output_type": "display_data"
    }
   ],
   "source": [
    "node2vec = Node2Vec(G, dimensions=2, walk_length=5, num_walks=300, workers=2)\n",
    "model = node2vec.fit(window=10, min_count=1)\n",
    "figure = plt.figure(figsize=(11, 9))\n",
    "\n",
    "ax = figure.add_subplot(111)\n",
    "\n",
    "ax.scatter(model.wv.vectors[:, 0], model.wv.vectors[:, 1])"
   ]
  },
  {
   "cell_type": "markdown",
   "metadata": {},
   "source": [
    "## Graphlets and Motifs"
   ]
  },
  {
   "cell_type": "code",
   "execution_count": null,
   "metadata": {},
   "outputs": [
    {
     "ename": "NameError",
     "evalue": "name 'G' is not defined",
     "output_type": "error",
     "traceback": [
      "\u001b[0;31m---------------------------------------------------------------------------\u001b[0m",
      "\u001b[0;31mNameError\u001b[0m                                 Traceback (most recent call last)",
      "\u001b[0;32m/var/folders/53/ry1dws7x4pl9q4kkrmm9h2_r0000gn/T/ipykernel_1864/2039617665.py\u001b[0m in \u001b[0;36m<module>\u001b[0;34m\u001b[0m\n\u001b[1;32m      1\u001b[0m \u001b[0migraph_sub_G\u001b[0m \u001b[0;34m=\u001b[0m \u001b[0migraph\u001b[0m\u001b[0;34m.\u001b[0m\u001b[0mGraph\u001b[0m\u001b[0;34m.\u001b[0m\u001b[0mfrom_networkx\u001b[0m\u001b[0;34m(\u001b[0m\u001b[0msub_G\u001b[0m\u001b[0;34m)\u001b[0m\u001b[0;34m\u001b[0m\u001b[0;34m\u001b[0m\u001b[0m\n\u001b[0;32m----> 2\u001b[0;31m \u001b[0mprint\u001b[0m\u001b[0;34m(\u001b[0m\u001b[0mex\u001b[0m\u001b[0;34m.\u001b[0m\u001b[0menumerate_subgraphs\u001b[0m\u001b[0;34m(\u001b[0m\u001b[0migraph_sub_G\u001b[0m\u001b[0;34m,\u001b[0m \u001b[0;36m3\u001b[0m\u001b[0;34m)\u001b[0m\u001b[0;34m)\u001b[0m\u001b[0;34m\u001b[0m\u001b[0;34m\u001b[0m\u001b[0m\n\u001b[0m",
      "\u001b[0;32m~/Desktop/Lfn-stonks/extended_networkx.py\u001b[0m in \u001b[0;36menumerate_subgraphs\u001b[0;34m(graph, k)\u001b[0m\n\u001b[1;32m    133\u001b[0m     \u001b[0;32mfor\u001b[0m \u001b[0mvertex_obj\u001b[0m \u001b[0;32min\u001b[0m \u001b[0mgraph\u001b[0m\u001b[0;34m.\u001b[0m\u001b[0mvs\u001b[0m\u001b[0;34m:\u001b[0m\u001b[0;34m\u001b[0m\u001b[0;34m\u001b[0m\u001b[0m\n\u001b[1;32m    134\u001b[0m         \u001b[0mv\u001b[0m \u001b[0;34m=\u001b[0m \u001b[0mvertex_obj\u001b[0m\u001b[0;34m.\u001b[0m\u001b[0mindex\u001b[0m\u001b[0;34m\u001b[0m\u001b[0;34m\u001b[0m\u001b[0m\n\u001b[0;32m--> 135\u001b[0;31m         \u001b[0mVextension\u001b[0m \u001b[0;34m=\u001b[0m \u001b[0mset\u001b[0m\u001b[0;34m(\u001b[0m\u001b[0;34m[\u001b[0m\u001b[0mu\u001b[0m \u001b[0;32mfor\u001b[0m \u001b[0mu\u001b[0m \u001b[0;32min\u001b[0m \u001b[0mgraph\u001b[0m\u001b[0;34m.\u001b[0m\u001b[0mneighbors\u001b[0m\u001b[0;34m(\u001b[0m\u001b[0mv\u001b[0m\u001b[0;34m)\u001b[0m \u001b[0;32mif\u001b[0m \u001b[0mu\u001b[0m \u001b[0;34m>\u001b[0m \u001b[0mv\u001b[0m\u001b[0;34m]\u001b[0m\u001b[0;34m)\u001b[0m\u001b[0;34m\u001b[0m\u001b[0;34m\u001b[0m\u001b[0m\n\u001b[0m\u001b[1;32m    136\u001b[0m         \u001b[0mextend_subgraph\u001b[0m\u001b[0;34m(\u001b[0m\u001b[0mgraph\u001b[0m\u001b[0;34m,\u001b[0m \u001b[0mset\u001b[0m\u001b[0;34m(\u001b[0m\u001b[0;34m[\u001b[0m\u001b[0mv\u001b[0m\u001b[0;34m]\u001b[0m\u001b[0;34m)\u001b[0m\u001b[0;34m,\u001b[0m \u001b[0mVextension\u001b[0m\u001b[0;34m,\u001b[0m \u001b[0mv\u001b[0m\u001b[0;34m,\u001b[0m \u001b[0mk\u001b[0m\u001b[0;34m,\u001b[0m \u001b[0mk_subgraphs\u001b[0m\u001b[0;34m)\u001b[0m\u001b[0;34m\u001b[0m\u001b[0;34m\u001b[0m\u001b[0m\n\u001b[1;32m    137\u001b[0m     \u001b[0;32mreturn\u001b[0m \u001b[0mk_subgraphs\u001b[0m\u001b[0;34m\u001b[0m\u001b[0;34m\u001b[0m\u001b[0m\n",
      "\u001b[0;31mNameError\u001b[0m: name 'G' is not defined"
     ]
    }
   ],
   "source": [
    "igraph_sub_G = igraph.Graph.from_networkx(sub_G)\n",
    "print(ex.enumerate_subgraphs(igraph_sub_G, 3))"
   ]
  }
 ],
 "metadata": {
  "interpreter": {
   "hash": "5204a74533213595f4cb17824e0251b8e042fe549e56b4e3fea578127d6ef366"
  },
  "kernelspec": {
   "display_name": "Python 3.9.5 64-bit ('.venv': venv)",
   "language": "python",
   "name": "python3"
  },
  "language_info": {
   "codemirror_mode": {
    "name": "ipython",
    "version": 3
   },
   "file_extension": ".py",
   "mimetype": "text/x-python",
   "name": "python",
   "nbconvert_exporter": "python",
   "pygments_lexer": "ipython3",
   "version": "3.9.5"
  },
  "orig_nbformat": 4
 },
 "nbformat": 4,
 "nbformat_minor": 2
}
